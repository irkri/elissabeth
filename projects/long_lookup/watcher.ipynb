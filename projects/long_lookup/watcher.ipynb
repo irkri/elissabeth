{
 "cells": [
  {
   "cell_type": "code",
   "execution_count": null,
   "metadata": {},
   "outputs": [],
   "source": [
    "import torch\n",
    "\n",
    "from sainomore.xai import ElissabethWatcher\n",
    "from data import lookup"
   ]
  },
  {
   "cell_type": "code",
   "execution_count": null,
   "metadata": {},
   "outputs": [],
   "source": [
    "watcher = ElissabethWatcher.load(\"\", on_cpu=True)"
   ]
  },
  {
   "cell_type": "code",
   "execution_count": null,
   "metadata": {},
   "outputs": [],
   "source": [
    "x, y = lookup(\n",
    "    n_samples=1,\n",
    "    length=25,\n",
    "    characters=5,\n",
    "    multiple_keys=False,\n",
    ")"
   ]
  },
  {
   "cell_type": "code",
   "execution_count": null,
   "metadata": {},
   "outputs": [],
   "source": [
    "print(x, \"\\n\", y)"
   ]
  },
  {
   "cell_type": "code",
   "execution_count": null,
   "metadata": {},
   "outputs": [],
   "source": [
    "watcher.plot_parameter_matrix(\"convs.0.weight\")"
   ]
  },
  {
   "cell_type": "code",
   "execution_count": null,
   "metadata": {},
   "outputs": [],
   "source": [
    "conv = torch.nn.Conv1d(2, 2, 2, padding=\"same\")\n",
    "conv.weight = torch.nn.Parameter(\n",
    "    torch.Tensor([[[-1, 1], [0, 0]], [[0, 0], [-1, 1]]])\n",
    ")\n",
    "torch.nn.init.zeros_(conv.bias)\n",
    "x = torch.randint(0, 10, size=(2, 10)).float()"
   ]
  },
  {
   "cell_type": "code",
   "execution_count": null,
   "metadata": {},
   "outputs": [],
   "source": [
    "fig, ax = watcher.plot_attention_matrices(\n",
    "    x[0],\n",
    "    # total=True,\n",
    "    cmap=\"RdPu\",\n",
    "    share_cmap=False,\n",
    "    log_cmap=False,\n",
    "    causal_mask=True,\n",
    "    figsize=(20, 40),\n",
    ")"
   ]
  },
  {
   "cell_type": "code",
   "execution_count": null,
   "metadata": {},
   "outputs": [],
   "source": [
    "fig, ax = watcher.plot_parameter_matrix(\n",
    "    \"layers.0.W_O\",\n",
    "    reduce_dims={4: 0},\n",
    "    figsize=(40, 50),\n",
    ")"
   ]
  },
  {
   "cell_type": "code",
   "execution_count": null,
   "metadata": {},
   "outputs": [],
   "source": [
    "fig, ax = watcher.plot_qkv_probing(\n",
    "    which=\"q\",\n",
    "    layer=0,\n",
    "    length=0,\n",
    "    weighting=0,\n",
    "    figsize=(20, 5),\n",
    ")"
   ]
  },
  {
   "cell_type": "code",
   "execution_count": null,
   "metadata": {},
   "outputs": [],
   "source": [
    "fig, ax = watcher.plot_qkv_probing(\n",
    "    which=\"k\",\n",
    "    layer=0,\n",
    "    length=0,\n",
    "    weighting=0,\n",
    "    figsize=(20, 5),\n",
    ")"
   ]
  }
 ],
 "metadata": {
  "kernelspec": {
   "display_name": "sainomore-JMySAefd-py3.11",
   "language": "python",
   "name": "python3"
  },
  "language_info": {
   "codemirror_mode": {
    "name": "ipython",
    "version": 3
   },
   "file_extension": ".py",
   "mimetype": "text/x-python",
   "name": "python",
   "nbconvert_exporter": "python",
   "pygments_lexer": "ipython3",
   "version": "3.11.7"
  }
 },
 "nbformat": 4,
 "nbformat_minor": 2
}
