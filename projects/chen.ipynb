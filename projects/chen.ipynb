{
 "cells": [
  {
   "cell_type": "code",
   "execution_count": 1,
   "metadata": {},
   "outputs": [],
   "source": [
    "import sainomore\n",
    "import torch\n",
    "from sainomore import Elissabeth\n",
    "import fruits\n",
    "import math\n",
    "import matplotlib.pyplot as plt"
   ]
  },
  {
   "cell_type": "markdown",
   "metadata": {},
   "source": [
    "$$\\newcommand{\\iss}{\\operatorname{ISS}}$$"
   ]
  },
  {
   "cell_type": "code",
   "execution_count": 2,
   "metadata": {},
   "outputs": [],
   "source": [
    "config = {\n",
    "    \"input_vocab_size\": 1,\n",
    "    \"input_type\": \"vector\",\n",
    "    \"context_length\": 125,\n",
    "    \"d_hidden\": 1,\n",
    "    \"layer_norm\": False,\n",
    "\n",
    "    \"lengths\": [1, 2, 3, 4, 5, 6],\n",
    "    \"d_values\": 1,\n",
    "    \"v_norm\": False,\n",
    "    \"sum_normalization\": False,\n",
    "}"
   ]
  },
  {
   "cell_type": "code",
   "execution_count": 3,
   "metadata": {},
   "outputs": [],
   "source": [
    "model = Elissabeth.build(config)\n",
    "model.set_eye(\"embedding.weight\")\n",
    "for i in range(len(model.layers[0].levels)):\n",
    "    torch.nn.init.ones_(model.get_parameter(f\"layers.0.levels.{i}.P_V.transform.weight\"))\n",
    "    torch.nn.init.zeros_(model.get_parameter(f\"layers.0.levels.{i}.P_V.transform.bias\"))\n",
    "torch.nn.init.ones_(model.get_parameter(\"layers.0.W_H\"))\n",
    "model.set_eye(\"layers.0.W_O\")\n",
    "model.set_eye(\"unembedding.weight\")\n",
    "watcher = sainomore.xai.ElissabethWatcher(model)"
   ]
  },
  {
   "cell_type": "code",
   "execution_count": 4,
   "metadata": {},
   "outputs": [],
   "source": [
    "def iss(target, level):\n",
    "    return model.layers[0].levels[level](target.unsqueeze(0).unsqueeze(-1)).detach().squeeze()[..., -1]\n"
   ]
  },
  {
   "cell_type": "markdown",
   "metadata": {},
   "source": [
    "$$\n",
    "\\begin{align*}\n",
    "\\iss(x)^{[1][1][1][1][1]}_{0,T}=\\Big(\n",
    "    &\\iss(x)^{[1][1][1][1][1]}_{0,s}+\\\\\n",
    "    &\\iss(x)^{[1][1][1][1]}_{0,s}\\cdot \\iss(x)^{[1]}_{s,T}+\\\\\n",
    "    &\\iss(x)^{[1][1][1]}_{0,s}\\cdot \\iss(x)^{[1][1]}_{s,T}+\\\\\n",
    "    &\\iss(x)^{[1][1]}_{0,s}\\cdot \\iss(x)^{[1][1][1]}_{s,T}+\\\\\n",
    "    &\\iss(x)^{[1]}_{0,s}\\cdot \\iss(x)^{[1][1][1][1]}_{s,T}+\\\\\n",
    "    &\\iss(x)^{[1][1][1][1][1]}_{s,T}\\Big)\n",
    "\\end{align*}\n",
    "$$\n",
    "\n",
    "```python\n",
    "d_hidden=6\n",
    "lengths=[1,2,3,4,5]\n",
    "```\n",
    "use two $P_v=W_2\\operatorname{ReLU}(W_1 u + b_1)+b_2$ value projections, one with (weights for time\n",
    "component, identity else)\n",
    "$W_2=1,W_1=1,b_1=s,b_2=0$ "
   ]
  },
  {
   "cell_type": "code",
   "execution_count": 5,
   "metadata": {},
   "outputs": [],
   "source": [
    "x = torch.randn((125,))"
   ]
  },
  {
   "cell_type": "code",
   "execution_count": 7,
   "metadata": {},
   "outputs": [],
   "source": [
    "approx = (\n",
    "      iss(x[:s+1], 4)\n",
    "    + iss(x[:s+1], 3)*iss(x[s+1:], 0)\n",
    "    + iss(x[:s+1], 2)*iss(x[s+1:], 1)\n",
    "    + iss(x[:s+1], 1)*iss(x[s+1:], 2)\n",
    "    + iss(x[:s+1], 0)*iss(x[s+1:], 3)\n",
    "    +                 iss(x[s+1:], 4)\n",
    ")"
   ]
  },
  {
   "cell_type": "code",
   "execution_count": 8,
   "metadata": {},
   "outputs": [
    {
     "data": {
      "text/plain": [
       "(tensor(8730.6875), tensor(8730.6865))"
      ]
     },
     "execution_count": 8,
     "metadata": {},
     "output_type": "execute_result"
    }
   ],
   "source": [
    "approx, iss(x, 4)"
   ]
  }
 ],
 "metadata": {
  "kernelspec": {
   "display_name": "sainomore-JMySAefd-py3.11",
   "language": "python",
   "name": "python3"
  },
  "language_info": {
   "codemirror_mode": {
    "name": "ipython",
    "version": 3
   },
   "file_extension": ".py",
   "mimetype": "text/x-python",
   "name": "python",
   "nbconvert_exporter": "python",
   "pygments_lexer": "ipython3",
   "version": "3.11.7"
  }
 },
 "nbformat": 4,
 "nbformat_minor": 2
}
