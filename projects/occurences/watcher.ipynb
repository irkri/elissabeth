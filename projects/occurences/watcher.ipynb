{
 "cells": [
  {
   "cell_type": "code",
   "execution_count": null,
   "metadata": {},
   "outputs": [],
   "source": [
    "from pathlib import Path\n",
    "import torch\n",
    "from matplotlib import pyplot as plt\n",
    "import numpy as np\n",
    "from sainomore.data import occurences\n",
    "from sainomore.xai import ElissabethWatcher, get_alphabet_projection"
   ]
  },
  {
   "cell_type": "code",
   "execution_count": null,
   "metadata": {},
   "outputs": [],
   "source": [
    "model_id = \"kukzl2q4\""
   ]
  },
  {
   "cell_type": "code",
   "execution_count": null,
   "metadata": {},
   "outputs": [],
   "source": [
    "watcher = ElissabethWatcher.load(model_id, on_cpu=True)"
   ]
  },
  {
   "cell_type": "markdown",
   "metadata": {},
   "source": [
    "## Model based"
   ]
  },
  {
   "cell_type": "code",
   "execution_count": null,
   "metadata": {},
   "outputs": [],
   "source": [
    "fig, ax = watcher.plot_alphabet_projection(\n",
    "    q=False,\n",
    "    k=False,\n",
    "    v=True,\n",
    "    transpose=False,\n",
    "    reduce_dims={0: 0},\n",
    "    figsize=(70, 20),\n",
    ")\n",
    "# fig.savefig(\n",
    "#     f\"copying_values_{model_id}.pdf\",\n",
    "#     facecolor=(0, 0, 0, 0),\n",
    "#     bbox_inches=\"tight\",\n",
    "# )"
   ]
  },
  {
   "cell_type": "code",
   "execution_count": null,
   "metadata": {},
   "outputs": [],
   "source": [
    "fig, ax = watcher.plot_parameter_matrix(\n",
    "    \"layers.0.levels.0.weightings.0.P_Q.transform.0.weight\",\n",
    "    figsize=(10, 5),\n",
    ")\n",
    "fig, ax = watcher.plot_parameter_matrix(\n",
    "    \"layers.0.levels.0.weightings.0.P_Q.transform.2.weight\",\n",
    "    # log_cmap=(0.1, 1.0),\n",
    "    figsize=(10, 5),\n",
    ")"
   ]
  },
  {
   "cell_type": "code",
   "execution_count": null,
   "metadata": {},
   "outputs": [],
   "source": [
    "fig, ax = watcher.plot_parameter_matrix(\n",
    "    \"layers.0.W_H\",\n",
    "    # reduce_dims={2: 0},\n",
    "    # append_dims=(0,1,),\n",
    "    figsize=(10, 10),\n",
    ")\n",
    "fig, ax = watcher.plot_parameter_matrix(\n",
    "    \"layers.0.W_O\",\n",
    "    reduce_dims={2: 0},\n",
    "    append_dims=(0,1,),\n",
    "    figsize=(10, 10),\n",
    ")"
   ]
  },
  {
   "cell_type": "code",
   "execution_count": null,
   "metadata": {},
   "outputs": [],
   "source": [
    "fig, ax = watcher.plot_parameter_matrix(\n",
    "    \"unembedding.weight\",\n",
    "    figsize=(10, 10),\n",
    ")"
   ]
  },
  {
   "cell_type": "code",
   "execution_count": null,
   "metadata": {},
   "outputs": [],
   "source": [
    "fig, ax = watcher.plot_qkv_probing(\n",
    "    which=\"q\",\n",
    "    layer=0,\n",
    "    length=0,\n",
    "    weighting=0,\n",
    "    reduce_dims={2: 0},\n",
    "    append_dims=(2,),\n",
    "    figsize=(25, 2),\n",
    ")"
   ]
  },
  {
   "cell_type": "code",
   "execution_count": null,
   "metadata": {},
   "outputs": [],
   "source": [
    "fig, ax = watcher.plot_qkv_probing(\n",
    "    which=\"k\",\n",
    "    layer=0,\n",
    "    length=0,\n",
    "    weighting=0,\n",
    "    reduce_dims={2: 0},\n",
    "    append_dims=(2,),\n",
    "    figsize=(20, 5),\n",
    ")"
   ]
  },
  {
   "cell_type": "code",
   "execution_count": null,
   "metadata": {},
   "outputs": [],
   "source": [
    "fig, ax = watcher.plot_qkv_probing(\n",
    "    which=\"v\",\n",
    "    layer=0,\n",
    "    length=0,\n",
    "    weighting=0,\n",
    "    reduce_dims={2: 0},\n",
    "    append_dims=(2, ),\n",
    "    figsize=(20, 5),\n",
    ")"
   ]
  },
  {
   "cell_type": "code",
   "execution_count": null,
   "metadata": {},
   "outputs": [],
   "source": [
    "import json\n",
    "with open(\"quotes.txt\", encoding=\"utf-8\") as f:\n",
    "    file = f.readlines()\n",
    "lengths = []\n",
    "for line in file:\n",
    "    lengths.append(len(line))\n",
    "np.mean(lengths)"
   ]
  },
  {
   "cell_type": "markdown",
   "metadata": {},
   "source": [
    "## Example based"
   ]
  },
  {
   "cell_type": "code",
   "execution_count": null,
   "metadata": {},
   "outputs": [],
   "source": [
    "x, y = occurences(\n",
    "    1,\n",
    "    length=100,\n",
    "    characters=5,\n",
    "    occurences=4,\n",
    ")\n",
    "x, y"
   ]
  },
  {
   "cell_type": "code",
   "execution_count": null,
   "metadata": {},
   "outputs": [],
   "source": [
    "fig, ax = watcher.plot_iss_time(\n",
    "    x[0],\n",
    "    # x_axis=watcher.model(x).argmax(-1)[0, :],\n",
    "    # reduce_dims={1: 0},\n",
    "    append_dims=(1, ),\n",
    "    index_selection=((-1, torch.arange(100)), ),\n",
    "    project_heads=False,\n",
    "    project_values=False,\n",
    "    figsize=(10, 4),\n",
    ")\n",
    "# fig, ax = watcher.plot_iss(\n",
    "#     x[0],\n",
    "#     append_dims=(1, ),\n",
    "#     project_heads=True,\n",
    "#     project_values=False,\n",
    "#     figsize=(20, 20),\n",
    "# )"
   ]
  },
  {
   "cell_type": "code",
   "execution_count": null,
   "metadata": {},
   "outputs": [],
   "source": [
    "fig, ax = watcher.plot_query_key_time(\n",
    "    x[0],\n",
    "    weighting=0,\n",
    "    names=(\"query\", \"key\"),\n",
    "    cmap=\"tab10\",\n",
    "    # x_axis=x[0],\n",
    "    project_heads=False,#tuple(torch.where(W_H.abs()[0] > 5)[0].numpy()),\n",
    "    reduce_dims={0: 0},\n",
    "    figsize=(20, 5),\n",
    ")"
   ]
  },
  {
   "cell_type": "code",
   "execution_count": null,
   "metadata": {},
   "outputs": [],
   "source": [
    "fig, ax = watcher.plot_values_time(\n",
    "    x[0],\n",
    "    x_axis=x[0],\n",
    "    project_heads=False,#tuple(torch.where(W_H.abs()[0] > 5)[0].numpy()),\n",
    "    reduce_dims={0: 0},\n",
    "    figsize=(20, 5),\n",
    ")"
   ]
  },
  {
   "cell_type": "code",
   "execution_count": null,
   "metadata": {},
   "outputs": [],
   "source": [
    "fig, ax = watcher.plot_attention_matrices(\n",
    "    x[0],\n",
    "    show_example=True,\n",
    "    total=True,\n",
    "    cmap=\"seismic\",\n",
    "    share_cmap=False,\n",
    "    log_cmap=False,#(10, 1),\n",
    "    causal_mask=True,\n",
    "    only_kernels=None,\n",
    "    project_heads=False,#tuple(torch.where(W_H.abs()[0] > 5)[0].numpy()),\n",
    "    center_zero=True,\n",
    "    cmap_example=\"tab20\",\n",
    "    figsize=(50, 10),\n",
    ")\n",
    "fig.savefig(\n",
    "    f\"attention_{model_id}.pdf\",\n",
    "    facecolor=(0, 0, 0, 0),\n",
    "    bbox_inches=\"tight\",\n",
    ")"
   ]
  }
 ],
 "metadata": {
  "kernelspec": {
   "display_name": "sainomore-JMySAefd-py3.11",
   "language": "python",
   "name": "python3"
  },
  "language_info": {
   "codemirror_mode": {
    "name": "ipython",
    "version": 3
   },
   "file_extension": ".py",
   "mimetype": "text/x-python",
   "name": "python",
   "nbconvert_exporter": "python",
   "pygments_lexer": "ipython3",
   "version": "3.11.7"
  }
 },
 "nbformat": 4,
 "nbformat_minor": 2
}
