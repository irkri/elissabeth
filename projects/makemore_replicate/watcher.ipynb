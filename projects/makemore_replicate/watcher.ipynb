{
 "cells": [
  {
   "cell_type": "code",
   "execution_count": null,
   "metadata": {},
   "outputs": [],
   "source": [
    "from pathlib import Path\n",
    "\n",
    "import numpy as np\n",
    "import torch\n",
    "\n",
    "from sainomore.xai import ElissabethWatcher\n",
    "\n",
    "from data import LetterAssembler"
   ]
  },
  {
   "cell_type": "code",
   "execution_count": null,
   "metadata": {},
   "outputs": [],
   "source": [
    "model_id = \"\""
   ]
  },
  {
   "cell_type": "code",
   "execution_count": null,
   "metadata": {},
   "outputs": [],
   "source": [
    "assembler = LetterAssembler(Path(\"quotes.txt\"))\n",
    "config = {\n",
    "    \"context_length\": assembler.context_length,\n",
    "    \"characters\": assembler.vocab_size,\n",
    "}"
   ]
  },
  {
   "cell_type": "code",
   "execution_count": null,
   "metadata": {},
   "outputs": [],
   "source": [
    "watcher = ElissabethWatcher.load(model_id, on_cpu=True)"
   ]
  },
  {
   "cell_type": "markdown",
   "metadata": {},
   "source": [
    "## Model based"
   ]
  },
  {
   "cell_type": "code",
   "execution_count": null,
   "metadata": {},
   "outputs": [],
   "source": [
    "fig, ax = watcher.plot_alphabet_projection(\n",
    "    q=False,\n",
    "    k=False,\n",
    "    v=True,\n",
    "    n=4,\n",
    "    tokens=torch.tensor([0, 82, 83]),\n",
    "    positions=3,\n",
    "    transpose=True,\n",
    "    reduce_dims={0: 0},\n",
    "    figsize=(10, 2),\n",
    ")\n",
    "# fig.savefig(\n",
    "#     f\"copying_values_{model_id}.pdf\",\n",
    "#     facecolor=(0, 0, 0, 0),\n",
    "#     bbox_inches=\"tight\",\n",
    "# )"
   ]
  },
  {
   "cell_type": "code",
   "execution_count": null,
   "metadata": {},
   "outputs": [],
   "source": [
    "fig, ax = watcher.plot_parameter_matrix(\n",
    "    \"layers.0.levels.0.weightings.0.P_Q.transform.0.weight\",\n",
    "    figsize=(10, 5),\n",
    ")\n",
    "fig, ax = watcher.plot_parameter_matrix(\n",
    "    \"layers.0.levels.0.weightings.0.P_Q.transform.2.weight\",\n",
    "    # log_cmap=(0.1, 1.0),\n",
    "    figsize=(10, 5),\n",
    ")"
   ]
  },
  {
   "cell_type": "code",
   "execution_count": null,
   "metadata": {},
   "outputs": [],
   "source": [
    "fig, ax = watcher.plot_parameter_matrix(\n",
    "    \"layers.0.W_H\",\n",
    "    # reduce_dims={2: 0},\n",
    "    # append_dims=(0,1,),\n",
    "    figsize=(2, 2),\n",
    ")\n",
    "fig, ax = watcher.plot_parameter_matrix(\n",
    "    \"layers.0.W_O\",\n",
    "    reduce_dims={2: 0},\n",
    "    append_dims=(0,1,),\n",
    "    figsize=(2, 5),\n",
    ")"
   ]
  },
  {
   "cell_type": "code",
   "execution_count": null,
   "metadata": {},
   "outputs": [],
   "source": [
    "fig, ax = watcher.plot_parameter_matrix(\n",
    "    \"unembedding.weight\",\n",
    "    figsize=(10, 5),\n",
    ")"
   ]
  },
  {
   "cell_type": "code",
   "execution_count": null,
   "metadata": {},
   "outputs": [],
   "source": [
    "fig, ax = watcher.plot_qkv_probing(\n",
    "    which=\"q\",\n",
    "    layer=0,\n",
    "    length=0,\n",
    "    weighting=0,\n",
    "    reduce_dims={2: 0},\n",
    "    append_dims=(2,),\n",
    "    figsize=(25, 2),\n",
    ")"
   ]
  },
  {
   "cell_type": "code",
   "execution_count": null,
   "metadata": {},
   "outputs": [],
   "source": [
    "fig, ax = watcher.plot_qkv_probing(\n",
    "    which=\"k\",\n",
    "    layer=0,\n",
    "    length=0,\n",
    "    weighting=0,\n",
    "    reduce_dims={2: 0},\n",
    "    append_dims=(2,),\n",
    "    figsize=(20, 5),\n",
    ")"
   ]
  },
  {
   "cell_type": "code",
   "execution_count": null,
   "metadata": {},
   "outputs": [],
   "source": [
    "fig, ax = watcher.plot_qkv_probing(\n",
    "    which=\"v\",\n",
    "    layer=0,\n",
    "    length=0,\n",
    "    weighting=0,\n",
    "    reduce_dims={2: 0},\n",
    "    append_dims=(2, ),\n",
    "    figsize=(20, 2),\n",
    ")"
   ]
  },
  {
   "cell_type": "code",
   "execution_count": null,
   "metadata": {},
   "outputs": [],
   "source": [
    "import json\n",
    "with open(\"quotes.txt\", encoding=\"utf-8\") as f:\n",
    "    file = f.readlines()\n",
    "lengths = []\n",
    "for line in file:\n",
    "    lengths.append(len(line))\n",
    "np.mean(lengths)"
   ]
  },
  {
   "cell_type": "markdown",
   "metadata": {},
   "source": [
    "## Example based"
   ]
  },
  {
   "cell_type": "code",
   "execution_count": null,
   "metadata": {},
   "outputs": [],
   "source": [
    "def generate(start: str, n_tokens: int, temperature: float = 0.1) -> str:\n",
    "    tensor = assembler.to_tensor(start, fill=False).unsqueeze(0)\n",
    "    for _ in range(n_tokens):\n",
    "        prob = torch.softmax(watcher.model(tensor)[:, -1:, :]/temperature, -1)\n",
    "        tensor = torch.cat(\n",
    "            (tensor, torch.multinomial(prob[:, 0, :], num_samples=1)),\n",
    "            dim=1,\n",
    "        )\n",
    "    return assembler.translate(tensor[0])"
   ]
  },
  {
   "cell_type": "code",
   "execution_count": null,
   "metadata": {},
   "outputs": [],
   "source": [
    "generate(\"\\{\\\"quote\\\":\\\"Love \", 10, temperature=0.5)"
   ]
  },
  {
   "cell_type": "code",
   "execution_count": null,
   "metadata": {},
   "outputs": [],
   "source": [
    "torch.random.manual_seed(62)\n",
    "np.random.seed(62)\n",
    "x, y = assembler.sample()\n",
    "print(assembler.translate(x[0]))\n",
    "print(\"\".join(map(\n",
    "    lambda x: assembler.itos.get(x, \" \"),\n",
    "    watcher.model(x[:, :25]).argmax(-1)[0].numpy()\n",
    ")))"
   ]
  },
  {
   "cell_type": "code",
   "execution_count": null,
   "metadata": {},
   "outputs": [],
   "source": [
    "time = torch.tensor((1,2,3,4,9,94,95,96))\n",
    "print(x[0][time])\n",
    "list(assembler.translate(x[0][time[:-1]]))"
   ]
  },
  {
   "cell_type": "code",
   "execution_count": null,
   "metadata": {},
   "outputs": [],
   "source": [
    "fig, ax = watcher.plot_iss_time(\n",
    "    x[0],\n",
    "    x_axis=[\"{\"]+list(assembler.translate(x[0][time][:-1]))+[\"-\"],\n",
    "    index_selection=((-1, time), ),\n",
    "    figsize=(20, 5),\n",
    ")"
   ]
  },
  {
   "cell_type": "code",
   "execution_count": null,
   "metadata": {},
   "outputs": [],
   "source": [
    "indices = [1, 2, 6, 7, 8, 9, 11] + list(range(13, 52)) + list(range(56, 84))"
   ]
  },
  {
   "cell_type": "code",
   "execution_count": null,
   "metadata": {},
   "outputs": [],
   "source": [
    "fig, ax = watcher.plot_attention_matrices(\n",
    "    torch.tensor(indices),\n",
    "    xlabels=list(assembler.translate(torch.tensor([0]+indices))),#[\"{\"]+list(assembler.translate(x[0][time][:-1]))+[\"-\"],\n",
    "    show_example=False,\n",
    "    # total=True,\n",
    "    cmap=\"hot_r\",\n",
    "    share_cmap=True,\n",
    "    log_cmap=False,\n",
    "    causal_mask=False,\n",
    "    only_kernels=None,\n",
    "    # value_direction=1,\n",
    "    all_but_first_value=False,\n",
    "    project_heads=True,#tuple(torch.where(W_H.abs()[0] > 5)[0].numpy()),\n",
    "    # index_selection=((-2, torch.arange(100)), (-1, torch.arange(100))),\n",
    "    # index_selection=((-2, time), (-1, time)),\n",
    "    center_zero=False,\n",
    "    cmap_example=\"tab20\",\n",
    "    figsize=(50, 50),\n",
    ")\n",
    "# fig.savefig(\n",
    "#     f\"attention_{model_id}_all_tokens.pdf\",\n",
    "#     facecolor=(0, 0, 0, 0),\n",
    "#     bbox_inches=\"tight\",\n",
    "# )"
   ]
  }
 ],
 "metadata": {
  "kernelspec": {
   "display_name": "sainomore-JMySAefd-py3.11",
   "language": "python",
   "name": "python3"
  },
  "language_info": {
   "codemirror_mode": {
    "name": "ipython",
    "version": 3
   },
   "file_extension": ".py",
   "mimetype": "text/x-python",
   "name": "python",
   "nbconvert_exporter": "python",
   "pygments_lexer": "ipython3",
   "version": "3.11.7"
  }
 },
 "nbformat": 4,
 "nbformat_minor": 2
}
