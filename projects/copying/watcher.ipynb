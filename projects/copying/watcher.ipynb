{
 "cells": [
  {
   "cell_type": "code",
   "execution_count": null,
   "metadata": {},
   "outputs": [],
   "source": [
    "from sainomore.xai import ElissabethWatcher, get_alphabet_projection\n",
    "\n",
    "from data import copying"
   ]
  },
  {
   "cell_type": "code",
   "execution_count": null,
   "metadata": {},
   "outputs": [],
   "source": [
    "model_id = \"\""
   ]
  },
  {
   "cell_type": "code",
   "execution_count": null,
   "metadata": {},
   "outputs": [],
   "source": [
    "watcher = ElissabethWatcher.load(model_id, on_cpu=True)"
   ]
  },
  {
   "cell_type": "code",
   "execution_count": null,
   "metadata": {},
   "outputs": [],
   "source": [
    "x, y = copying(\n",
    "    n_samples=1,\n",
    "    length=100,\n",
    "    n_categories=10,\n",
    "    to_copy=10,\n",
    "    max_dilute=5,\n",
    ")"
   ]
  },
  {
   "cell_type": "code",
   "execution_count": null,
   "metadata": {},
   "outputs": [],
   "source": [
    "print(x[0, :60], \"\\n\", y[0, -10:])"
   ]
  },
  {
   "cell_type": "code",
   "execution_count": null,
   "metadata": {},
   "outputs": [],
   "source": [
    "proj = get_alphabet_projection(watcher.model)\n",
    "proj[2].shape"
   ]
  },
  {
   "cell_type": "code",
   "execution_count": null,
   "metadata": {},
   "outputs": [],
   "source": [
    "fig, ax = watcher.plot_alphabet_projection(\n",
    "    q=False,\n",
    "    k=False,\n",
    "    v=True,\n",
    "    n=0,\n",
    "    transpose=True,\n",
    "    figsize=(30, 10),\n",
    ")\n",
    "# fig.savefig(\n",
    "#     f\"copying_values_{model_id}.pdf\",\n",
    "#     facecolor=(0, 0, 0, 0),\n",
    "#     bbox_inches=\"tight\",\n",
    "# )"
   ]
  },
  {
   "cell_type": "code",
   "execution_count": null,
   "metadata": {},
   "outputs": [],
   "source": [
    "# fig, ax = watcher.plot_iss_time(\n",
    "#     x[0],\n",
    "#     x_axis=watcher.model(x).argmax(-1)[0, :],\n",
    "#     append_dims=(1, ),\n",
    "#     project_heads=True,\n",
    "#     project_values=False,\n",
    "#     figsize=(20, 4),\n",
    "# )\n",
    "# fig, ax = watcher.plot_iss(\n",
    "#     x[0],\n",
    "#     append_dims=(1, ),\n",
    "#     project_heads=False,\n",
    "#     project_values=False,\n",
    "#     figsize=(10, 20),\n",
    "# )"
   ]
  },
  {
   "cell_type": "code",
   "execution_count": null,
   "metadata": {},
   "outputs": [],
   "source": [
    "fig, ax = watcher.plot_query_key_time(\n",
    "    x[0],\n",
    "    weighting=0,\n",
    "    names=(\"query\", \"key\"),\n",
    "    cmap=\"tab10\",\n",
    "    # x_axis=x[0],\n",
    "    project_heads=False,#tuple(torch.where(W_H.abs()[0] > 5)[0].numpy()),\n",
    "    # reduce_dims={0: 0},\n",
    "    figsize=(20, 30),\n",
    ")"
   ]
  },
  {
   "cell_type": "code",
   "execution_count": null,
   "metadata": {},
   "outputs": [],
   "source": [
    "fig, ax = watcher.plot_values_time(\n",
    "    x[0],\n",
    "    x_axis=x[0],\n",
    "    project_heads=False,#tuple(torch.where(W_H.abs()[0] > 5)[0].numpy()),\n",
    "    reduce_dims={2:0, 3: 0},\n",
    "    figsize=(20, 5),\n",
    ")"
   ]
  },
  {
   "cell_type": "code",
   "execution_count": null,
   "metadata": {},
   "outputs": [],
   "source": [
    "fig, ax = watcher.plot_attention_matrices(\n",
    "    x[0],\n",
    "    layer=1,\n",
    "    # total=True,\n",
    "    cmap=\"seismic\",\n",
    "    share_cmap=False,\n",
    "    log_cmap=False,#(10, 1),\n",
    "    causal_mask=True,\n",
    "    only_kernels=None,\n",
    "    project_heads=True,#tuple(torch.where(W_H.abs()[0] > 5)[0].numpy()),\n",
    "    center_zero=True,\n",
    "    cmap_example=\"tab20\",\n",
    "    figsize=(10, 10),\n",
    ")\n",
    "# fig.savefig(\n",
    "#     f\"copying_attention_{model_id}.pdf\",\n",
    "#     facecolor=(0, 0, 0, 0),\n",
    "#     bbox_inches=\"tight\",\n",
    "# )"
   ]
  },
  {
   "cell_type": "code",
   "execution_count": null,
   "metadata": {},
   "outputs": [],
   "source": [
    "fig, ax = watcher.plot_parameter_matrix(\n",
    "    \"layers.0.levels.0.weightings.0.P_Q.transform.0.weight\",\n",
    "    figsize=(10, 5),\n",
    ")\n",
    "fig, ax = watcher.plot_parameter_matrix(\n",
    "    \"layers.0.levels.0.weightings.0.P_Q.transform.2.weight\",\n",
    "    # log_cmap=(0.1, 1.0),\n",
    "    figsize=(10, 5),\n",
    ")"
   ]
  },
  {
   "cell_type": "code",
   "execution_count": null,
   "metadata": {},
   "outputs": [],
   "source": [
    "fig, ax = watcher.plot_parameter_matrix(\n",
    "    \"layers.0.W_O\",\n",
    "    reduce_dims={2: 0},\n",
    "    append_dims=(0,1,),\n",
    "    figsize=(10, 10),\n",
    ")"
   ]
  },
  {
   "cell_type": "code",
   "execution_count": null,
   "metadata": {},
   "outputs": [],
   "source": [
    "fig, ax = watcher.plot_qkv_probing(\n",
    "    which=\"q\",\n",
    "    layer=1,\n",
    "    length=0,\n",
    "    weighting=0,\n",
    "    reduce_dims={2: 0},\n",
    "    append_dims=(2,),\n",
    "    figsize=(25, 2),\n",
    ")"
   ]
  },
  {
   "cell_type": "code",
   "execution_count": null,
   "metadata": {},
   "outputs": [],
   "source": [
    "fig, ax = watcher.plot_qkv_probing(\n",
    "    which=\"k\",\n",
    "    layer=0,\n",
    "    length=0,\n",
    "    weighting=0,\n",
    "    reduce_dims={2: 0},\n",
    "    append_dims=(2,),\n",
    "    figsize=(20, 5),\n",
    ")"
   ]
  },
  {
   "cell_type": "code",
   "execution_count": null,
   "metadata": {},
   "outputs": [],
   "source": [
    "fig, ax = watcher.plot_qkv_probing(\n",
    "    which=\"v\",\n",
    "    layer=0,\n",
    "    length=0,\n",
    "    weighting=0,\n",
    "    figsize=(20, 5),\n",
    ")"
   ]
  }
 ],
 "metadata": {
  "kernelspec": {
   "display_name": "sainomore-JMySAefd-py3.11",
   "language": "python",
   "name": "python3"
  },
  "language_info": {
   "codemirror_mode": {
    "name": "ipython",
    "version": 3
   },
   "file_extension": ".py",
   "mimetype": "text/x-python",
   "name": "python",
   "nbconvert_exporter": "python",
   "pygments_lexer": "ipython3",
   "version": "3.11.7"
  }
 },
 "nbformat": 4,
 "nbformat_minor": 2
}
